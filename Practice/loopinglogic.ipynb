{
 "cells": [
  {
   "cell_type": "code",
   "execution_count": 2,
   "id": "df26a432",
   "metadata": {},
   "outputs": [],
   "source": [
    "from langgraph.graph import StateGraph,END\n",
    "import random\n",
    "from typing import Dict,List,Any,TypedDict"
   ]
  },
  {
   "cell_type": "code",
   "execution_count": 3,
   "id": "c0b04cfb",
   "metadata": {},
   "outputs": [],
   "source": [
    "class AgentState(TypedDict):\n",
    "    name:str\n",
    "    number:List[int]\n",
    "    counter:int"
   ]
  },
  {
   "cell_type": "code",
   "execution_count": 4,
   "id": "e55a28d5",
   "metadata": {},
   "outputs": [],
   "source": [
    "# greeting node\n",
    "\n",
    "def greeting_node(state:AgentState) -> AgentState:\n",
    "    state[\"name\"] = f\"Hi there,,{state[\"name\"]}\"\n",
    "    state[\"counter\"] = 0\n",
    "\n",
    "    return state\n",
    "\n",
    "def random_node(state:AgentState) -> AgentState:\n",
    "    \"\"\"Randomly select a number from the list and add it to the counter.\n",
    "    \"\"\"\n",
    "    state[\"number\"].append(random.randint(0,10))\n",
    "    state[\"counter\"] += 1\n",
    "\n",
    "    return state\n",
    "\n",
    "def should_continue(state:AgentState) -> bool:\n",
    "    \"\"\"Function to decide what to do next\"\"\"\n",
    "    if state[\"counter\"] < 5:\n",
    "        print(\"ENTERING LOOP\",state[\"counter\"])\n",
    "        return \"loop\"    \n",
    "    else:\n",
    "        return \"exit\"\n",
    "    \n",
    "\n",
    "\n"
   ]
  },
  {
   "cell_type": "code",
   "execution_count": 6,
   "id": "7a513cde",
   "metadata": {},
   "outputs": [],
   "source": [
    "graph = StateGraph(AgentState)\n",
    "graph.add_node(\"greeting_node\", greeting_node)\n",
    "graph.add_node(\"random_node\", random_node)\n",
    "graph.add_edge(\"greeting_node\", \"random_node\")\n",
    "\n",
    "graph.add_conditional_edges(\n",
    "    \"random_node\",\n",
    "    should_continue,\n",
    "    {\n",
    "        \"loop\":\"random_node\",\n",
    "        \"exit\":END\n",
    "    }\n",
    ")\n",
    "\n",
    "graph.set_entry_point(\"greeting_node\")\n",
    "\n",
    "app = graph.compile()\n"
   ]
  },
  {
   "cell_type": "code",
   "execution_count": 7,
   "id": "d9bcc809",
   "metadata": {},
   "outputs": [
    {
     "data": {
      "image/png": "[encoded data removed]",
      "text/plain": [
       "<IPython.core.display.Image object>"
      ]
     },
     "metadata": {},
     "output_type": "display_data"
    }
   ],
   "source": [
    "from IPython.display import Image,display\n",
    "display(Image(app.get_graph().draw_mermaid_png()))"
   ]
  },
  {
   "cell_type": "code",
   "execution_count": 10,
   "id": "0396c478",
   "metadata": {},
   "outputs": [
    {
     "name": "stdout",
     "output_type": "stream",
     "text": [
      "ENTERING LOOP 1\n",
      "ENTERING LOOP 2\n",
      "ENTERING LOOP 3\n",
      "ENTERING LOOP 4\n"
     ]
    },
    {
     "data": {
      "text/plain": [
       "{'name': 'Hi there,,Vanshika', 'number': [4, 9, 4, 3, 10], 'counter': 5}"
      ]
     },
     "execution_count": 10,
     "metadata": {},
     "output_type": "execute_result"
    }
   ],
   "source": [
    "app.invoke({\"name\":\"Vanshika\",\"number\":[],\"counter\":-1})"
   ]
  },
  {
   "cell_type": "code",
   "execution_count": null,
   "id": "15b2ae44",
   "metadata": {},
   "outputs": [],
   "source": []
  }
 ],
 "metadata": {
  "kernelspec": {
   "display_name": "env (3.12.7)",
   "language": "python",
   "name": "python3"
  },
  "language_info": {
   "codemirror_mode": {
    "name": "ipython",
    "version": 3
   },
   "file_extension": ".py",
   "mimetype": "text/x-python",
   "name": "python",
   "nbconvert_exporter": "python",
   "pygments_lexer": "ipython3",
   "version": "3.12.7"
  }
 },
 "nbformat": 4,
 "nbformat_minor": 5
}
