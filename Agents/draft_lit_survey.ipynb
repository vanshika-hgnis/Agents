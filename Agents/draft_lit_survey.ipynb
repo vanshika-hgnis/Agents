{
 "cells": [
  {
   "cell_type": "markdown",
   "id": "70ad1f1e",
   "metadata": {},
   "source": [
    "# ✅ LangGraph for orchestrating agents/nodes and state transitions\n",
    "\n",
    "# ✅ [arXiv API + web browsing] for fetching papers automatically\n",
    "\n",
    "# ✅ Mistral API (via mistralai or other client) for LLM processing\n",
    "\n",
    "# ✅ Final Output → Excel sheet with structured info per paper"
   ]
  },
  {
   "cell_type": "code",
   "execution_count": null,
   "id": "ad22bdd6",
   "metadata": {},
   "outputs": [
    {
     "ename": "SyntaxError",
     "evalue": "invalid character '✅' (U+2705) (2903607321.py, line 1)",
     "output_type": "error",
     "traceback": [
      "  \u001b[36mCell\u001b[39m\u001b[36m \u001b[39m\u001b[32mIn[1]\u001b[39m\u001b[32m, line 1\u001b[39m\n\u001b[31m    \u001b[39m\u001b[31m✅ LangGraph for orchestrating agents/nodes and state transitions\u001b[39m\n    ^\n\u001b[31mSyntaxError\u001b[39m\u001b[31m:\u001b[39m invalid character '✅' (U+2705)\n"
     ]
    }
   ],
   "source": [
    "from mistralai.client import MistralClient\n",
    "from mistralai.models.chat_completion import ChatMessage\n",
    "import os\n",
    "\n",
    "mistral = MistralClient(api_key=os.getenv(\"MISTRAL_API_KEY\"))\n",
    "\n",
    "def get_lit_summary(text):\n",
    "    prompt = f\"\"\"\n",
    "You are a literature survey assistant. Given a paper abstract or content, extract:\n",
    "- Title\n",
    "- Summary\n",
    "- Techniques Used\n",
    "- Enhancements\n",
    "- Disadvantages / Future Work\n",
    "\n",
    "Content:\n",
    "{text[:4000]}\n",
    "\"\"\"\n",
    "    response = mistral.chat(\n",
    "        model=\"mistral-small\",\n",
    "        messages=[ChatMessage(role=\"user\", content=prompt)],\n",
    "    )\n",
    "    return response.choices[0].message.content\n"
   ]
  },
  {
   "cell_type": "code",
   "execution_count": null,
   "id": "dca4b535",
   "metadata": {},
   "outputs": [],
   "source": []
  }
 ],
 "metadata": {
  "kernelspec": {
   "display_name": "env (3.12.7)",
   "language": "python",
   "name": "python3"
  },
  "language_info": {
   "codemirror_mode": {
    "name": "ipython",
    "version": 3
   },
   "file_extension": ".py",
   "mimetype": "text/x-python",
   "name": "python",
   "nbconvert_exporter": "python",
   "pygments_lexer": "ipython3",
   "version": "3.12.7"
  }
 },
 "nbformat": 4,
 "nbformat_minor": 5
}
