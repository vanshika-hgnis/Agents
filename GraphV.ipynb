{
 "cells": [
  {
   "cell_type": "code",
   "execution_count": 2,
   "id": "46e9474e",
   "metadata": {},
   "outputs": [],
   "source": [
    "from langgraph.graph import StateGraph,END\n",
    "import random\n",
    "from typing import Any,Dict,List,TypedDict"
   ]
  },
  {
   "cell_type": "code",
   "execution_count": 3,
   "id": "3a5d5d80",
   "metadata": {},
   "outputs": [],
   "source": [
    "class GameState(TypedDict):\n",
    "    player_name:str\n",
    "    target_number:int\n",
    "    guesses:List[int]\n",
    "    attempts:int\n",
    "    hint:str\n",
    "    lower_bound:int\n",
    "    upper_bound:int"
   ]
  },
  {
   "cell_type": "code",
   "execution_count": 4,
   "id": "c2a4628a",
   "metadata": {},
   "outputs": [],
   "source": [
    "def setup_node(state:GameState) -> GameState:\n",
    "    \"\"\" Initialize the game state with a random target number\"\"\"\n",
    "    state[\"player_name\"] = f\"Welcome {state[\"player_name\"]}\"\n",
    "    state[\"target_number\"] = random.randint(1,20)\n",
    "    state[\"guesses\"] = []\n",
    "    state[\"attempts\"]  = 0\n",
    "    state[\"hint\"] = \"Game started! Try to guess the number.\"\n",
    "    state[\"lower_bound\"] = 1\n",
    "    state[\"upper_bound\"] = 20\n",
    "    print(f\"{state}\")"
   ]
  },
  {
   "cell_type": "code",
   "execution_count": 5,
   "id": "e5bbc4f7",
   "metadata": {},
   "outputs": [],
   "source": [
    "def guess_node(state:GameState) -> GameState:\n",
    "\n",
    "    possible_guesses = [ i for  i in range(state[\"lower_bound\"],state[\"upper_bound\"] + 1) if i not in state[\"guesses\"]]\n",
    "    if possible_guesses:\n",
    "        guess = random.choice(possible_guesses)\n",
    "    else:\n",
    "        guess = random.randint(state[\"lower_bound\"],state[\"upper_bound\"])\n",
    "    \n",
    "    state[\"guesses\"].append(guess)\n",
    "    state[\"attempts\"] += 1\n",
    "    print(f\"Attempt {state['attempts']}: Guessing {guess} (Current range: {state[\"lower_bound\"]} - {state[\"upper_bound\"]})\")\n",
    "    return state\n",
    "\n",
    "\n"
   ]
  },
  {
   "cell_type": "code",
   "execution_count": 6,
   "id": "1add5ad0",
   "metadata": {},
   "outputs": [],
   "source": [
    "def hint_node(state:GameState) -> GameState:\n",
    "    latest_guess = state[\"guesses\"][-1]\n",
    "    target = state[\"target_number\"]\n",
    "    if latest_guess < target:\n",
    "        state[\"hint\"] = f\"The number {latest_guess} is too low.Try higher!\"\n",
    "        state[\"lower_bound\"] = max(state[\"lower_bound\"],latest_guess + 1)\n",
    "        print(f\"Hint: {state[\"hint\"]}\")\n",
    "\n",
    "    elif latest_guess > target:\n",
    "        state[\"hint\"] = f\"The number {latest_guess} is too high.Try lower !\"\n",
    "        state[\"upper_bound\"] = min(state[\"upper_bound\"],latest_guess -1)\n",
    "        print(f\"Hint: {state[\"hint\"]}\")\n",
    "    else:\n",
    "        state[\"hint\"] = f\"Correct! You found the number {target} in {state[\"attempts\"]} attempts.\"\n",
    "        print(f\"Success! {state[\"hint\"]}\")\n",
    "\n",
    "    return state\n"
   ]
  },
  {
   "cell_type": "code",
   "execution_count": null,
   "id": "b4b98f0c",
   "metadata": {},
   "outputs": [],
   "source": [
    "def should_continue(state:GameState) -> bool:\n",
    "    latest_guess = state[\"guesses\"][-1]\n",
    "    if latest_guess == state[\"target_number\"]:\n",
    "        print(\"Game Over: Number found !\")\n",
    "        return \"end\"\n",
    "    elif state[\"attempts\"] >= 7:\n",
    "        print(f\"Game Over: Maximum attempts reached1 The number was {state[\"target_number\"]}\")\n",
    "    else:\n",
    "        print(f\"Continue: {state[\"attempts\"]}/7 attempts used\")\n",
    "        return \"continue\"\n",
    "    "
   ]
  }
 ],
 "metadata": {
  "kernelspec": {
   "display_name": "env (3.12.7)",
   "language": "python",
   "name": "python3"
  },
  "language_info": {
   "codemirror_mode": {
    "name": "ipython",
    "version": 3
   },
   "file_extension": ".py",
   "mimetype": "text/x-python",
   "name": "python",
   "nbconvert_exporter": "python",
   "pygments_lexer": "ipython3",
   "version": "3.12.7"
  }
 },
 "nbformat": 4,
 "nbformat_minor": 5
}
